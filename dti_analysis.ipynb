{
 "cells": [
  {
   "cell_type": "markdown",
   "id": "20696d42",
   "metadata": {},
   "source": [
    "## Import necessary packages"
   ]
  },
  {
   "cell_type": "code",
   "execution_count": 1,
   "id": "57c9f2e3",
   "metadata": {},
   "outputs": [],
   "source": [
    "import os\n",
    "import numpy as np\n",
    "import nibabel as nib\n",
    "import dipy.reconst.dti as dti\n",
    "import dipy.core.gradients as dpg\n",
    "import matplotlib.pyplot as plt\n",
    "import warnings\n",
    "warnings.filterwarnings('ignore')\n",
    "%matplotlib inline"
   ]
  },
  {
   "cell_type": "markdown",
   "id": "9c44ac96",
   "metadata": {},
   "source": [
    "## Data overview"
   ]
  },
  {
   "cell_type": "code",
   "execution_count": 2,
   "id": "f9bf8d08",
   "metadata": {},
   "outputs": [],
   "source": [
    "img_t1 = nib.load(\"AA_041/AA_041_2_MPRAGE_GRAPPA2.nii.gz\")\n",
    "data_t1 = img_t1.get_fdata()"
   ]
  },
  {
   "cell_type": "code",
   "execution_count": 3,
   "id": "d74d4b6f",
   "metadata": {},
   "outputs": [
    {
     "name": "stdout",
     "output_type": "stream",
     "text": [
      "(176, 240, 256)\n"
     ]
    }
   ],
   "source": [
    "print(img_t1.shape)"
   ]
  },
  {
   "cell_type": "code",
   "execution_count": 4,
   "id": "3a79946b",
   "metadata": {},
   "outputs": [
    {
     "ename": "NameError",
     "evalue": "name 'plot_anat' is not defined",
     "output_type": "error",
     "traceback": [
      "\u001b[0;31m---------------------------------------------------------------------------\u001b[0m",
      "\u001b[0;31mNameError\u001b[0m                                 Traceback (most recent call last)",
      "\u001b[0;32m/var/folders/9w/16vdgrh16h70kmd45bktc2f00000gn/T/ipykernel_5626/2352763033.py\u001b[0m in \u001b[0;36m<module>\u001b[0;34m\u001b[0m\n\u001b[0;32m----> 1\u001b[0;31m \u001b[0mplot_anat\u001b[0m\u001b[0;34m(\u001b[0m\u001b[0mimg_t1\u001b[0m\u001b[0;34m,\u001b[0m \u001b[0mdraw_cross\u001b[0m\u001b[0;34m=\u001b[0m\u001b[0;32mFalse\u001b[0m\u001b[0;34m,\u001b[0m \u001b[0mdisplay_mode\u001b[0m\u001b[0;34m=\u001b[0m\u001b[0;34m'z'\u001b[0m\u001b[0;34m)\u001b[0m\u001b[0;34m\u001b[0m\u001b[0;34m\u001b[0m\u001b[0m\n\u001b[0m",
      "\u001b[0;31mNameError\u001b[0m: name 'plot_anat' is not defined"
     ]
    }
   ],
   "source": [
    "plot_anat(img_t1, draw_cross=False, display_mode='z')"
   ]
  },
  {
   "cell_type": "markdown",
   "id": "bbacf59e",
   "metadata": {},
   "source": [
    "## Visualization of Diffusion Metrics"
   ]
  },
  {
   "cell_type": "code",
   "execution_count": null,
   "id": "daf15977",
   "metadata": {},
   "outputs": [],
   "source": [
    "# Define the subject ID and DWI files\n",
    "subject_id = \"AA_041\"\n",
    "dwi_file = f\"{subject_id}/{subject_id}_8_ep2d_diff_30_iso.nii.gz\"\n",
    "bval_file = f\"{subject_id}/{subject_id}_8_ep2d_diff_30_iso.bval\"\n",
    "bvec_file = f\"{subject_id}/{subject_id}_8_ep2d_diff_30_iso.bvec\"\n",
    "\n",
    "# Load the DWI data\n",
    "dwi_img = nib.load(dwi_file)\n",
    "data = dwi_img.get_fdata()\n",
    "affine = dwi_img.affine\n",
    "\n",
    "# Load the b-values and b-vectors\n",
    "bvals = np.loadtxt(bval_file)\n",
    "bvecs = np.loadtxt(bvec_file).T\n",
    "\n",
    "# Create a mask to exclude background\n",
    "mask = data[..., 0] > 0\n",
    "\n",
    "# Prepare the gradient table\n",
    "gtab = dpg.gradient_table(bvals, bvecs)\n",
    "\n",
    "# Fit the diffusion tensor model\n",
    "dti_model = dti.TensorModel(gtab)\n",
    "dti_fit = dti_model.fit(data, mask=mask)\n",
    "\n",
    "# Calculate FA, MD, AD, and RD\n",
    "fa = dti_fit.fa\n",
    "md = dti_fit.md\n",
    "ad = dti_fit.ad\n",
    "rd = dti_fit.rd\n",
    "\n",
    "# Plot the diffusion metrics\n",
    "fig1, ax = plt.subplots(1, 4, figsize=(16, 4),\n",
    "                        subplot_kw={'xticks': [], 'yticks': []})\n",
    "\n",
    "fig1.subplots_adjust(hspace=0.3, wspace=0.05)\n",
    "\n",
    "ax.flat[0].imshow(fa[:, :, fa.shape[2] // 2], cmap=\"gray\", origin=\"lower\")\n",
    "ax.flat[0].set_title(\"Functional Anisotropy (FA)\")\n",
    "ax.flat[1].imshow(md[:, :, md.shape[2] // 2], cmap=\"gray\", origin=\"lower\")\n",
    "ax.flat[1].set_title(\"Mean Diffusivity (MD)\")\n",
    "ax.flat[2].imshow(ad[:, :, ad.shape[2] // 2], cmap=\"gray\", origin=\"lower\")\n",
    "ax.flat[2].set_title(\"Axial Diffusivity (AD)\")\n",
    "ax.flat[3].imshow(rd[:, :, rd.shape[2] // 2], cmap=\"gray\", origin=\"lower\")\n",
    "ax.flat[3].set_title(\"Radial Diffusivity (RD)\")\n",
    "\n",
    "\n",
    "plt.tight_layout()\n",
    "plt.show()"
   ]
  },
  {
   "cell_type": "code",
   "execution_count": null,
   "id": "6e0bee0a",
   "metadata": {},
   "outputs": [],
   "source": []
  }
 ],
 "metadata": {
  "kernelspec": {
   "display_name": "Python 3 (ipykernel)",
   "language": "python",
   "name": "python3"
  },
  "language_info": {
   "codemirror_mode": {
    "name": "ipython",
    "version": 3
   },
   "file_extension": ".py",
   "mimetype": "text/x-python",
   "name": "python",
   "nbconvert_exporter": "python",
   "pygments_lexer": "ipython3",
   "version": "3.9.13"
  }
 },
 "nbformat": 4,
 "nbformat_minor": 5
}
